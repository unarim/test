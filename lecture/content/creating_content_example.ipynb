{
 "cells": [
  {
   "cell_type": "markdown",
   "id": "c5354abc",
   "metadata": {},
   "source": [
    "# Example Content\n"
   ]
  },
  {
   "cell_type": "markdown",
   "id": "0c7092d7",
   "metadata": {},
   "source": [
    "The following is a collection of ways to create static or interactive content to populate your Jupyter Book, feel free to copy + paste and following further adapt to your needs!"
   ]
  },
  {
   "cell_type": "markdown",
   "id": "2bbed0bd",
   "metadata": {},
   "source": [
    "## Additional Material/Ressources"
   ]
  }
 ],
 "metadata": {
  "kernelspec": {
   "display_name": "Python 3 (ipykernel)",
   "language": "python",
   "name": "python3"
  },
  "language_info": {
   "codemirror_mode": {
    "name": "ipython",
    "version": 3
   },
   "file_extension": ".py",
   "mimetype": "text/x-python",
   "name": "python",
   "nbconvert_exporter": "python",
   "pygments_lexer": "ipython3",
   "version": "3.7.6"
  }
 },
 "nbformat": 4,
 "nbformat_minor": 5
}
